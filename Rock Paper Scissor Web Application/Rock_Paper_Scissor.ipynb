{
  "nbformat": 4,
  "nbformat_minor": 0,
  "metadata": {
    "colab": {
      "provenance": [],
      "authorship_tag": "ABX9TyNY43fPe3AaJyc8icsLDDic",
      "include_colab_link": true
    },
    "kernelspec": {
      "name": "python3",
      "display_name": "Python 3"
    },
    "language_info": {
      "name": "python"
    }
  },
  "cells": [
    {
      "cell_type": "markdown",
      "metadata": {
        "id": "view-in-github",
        "colab_type": "text"
      },
      "source": [
        "<a href=\"https://colab.research.google.com/github/I-jidd/Data-Analysis/blob/main/Rock_Paper_Scissor.ipynb\" target=\"_parent\"><img src=\"https://colab.research.google.com/assets/colab-badge.svg\" alt=\"Open In Colab\"/></a>"
      ]
    },
    {
      "cell_type": "markdown",
      "source": [
        "Rock Paper Scissors Model Training"
      ],
      "metadata": {
        "id": "SVJcfbvR8Ic7"
      }
    },
    {
      "cell_type": "code",
      "source": [
        "#Install required packages\n",
        "\n",
        "!pip install tensorflow opencv-python matplotlib numpy kaggle"
      ],
      "metadata": {
        "id": "j001Ti8U8NdT"
      },
      "execution_count": null,
      "outputs": []
    },
    {
      "cell_type": "code",
      "source": [
        "#Import libraries\n",
        "import tensorflow as tf\n",
        "from tensorflow import keras\n",
        "from tensorflow.keras import layers\n",
        "from tensorflow.keras.preprocessing.image import ImageDataGenerator\n",
        "import cv2\n",
        "import numpy as np\n",
        "import matplotlib.pyplot as plt\n",
        "import os\n",
        "import kagglehub\n",
        "import shutil\n",
        "from sklearn.model_selection import train_test_split"
      ],
      "metadata": {
        "id": "eRfI9h4N8YP8"
      },
      "execution_count": 39,
      "outputs": []
    },
    {
      "cell_type": "code",
      "source": [
        "#dataset of rock paper scissors\n",
        "path = kagglehub.dataset_download(\"drgfreeman/rockpaperscissors\")\n",
        "print(\"Path to dataset files: \", path)"
      ],
      "metadata": {
        "colab": {
          "base_uri": "https://localhost:8080/"
        },
        "id": "RDR2fdBT9aG8",
        "outputId": "4c7cc040-bc60-4248-caf0-315f236cb68d"
      },
      "execution_count": 17,
      "outputs": [
        {
          "output_type": "stream",
          "name": "stdout",
          "text": [
            "Path to dataset files:  /kaggle/input/rockpaperscissors\n"
          ]
        }
      ]
    },
    {
      "cell_type": "code",
      "source": [
        "#list of everythin int he downloaded path\n",
        "print(\"Contents of the dataset folder:\")\n",
        "print(os.listdir(path))"
      ],
      "metadata": {
        "colab": {
          "base_uri": "https://localhost:8080/"
        },
        "id": "AWjz4FfRGOKc",
        "outputId": "46dc72d0-0a3d-4484-e91a-ae9e71b7e732"
      },
      "execution_count": 14,
      "outputs": [
        {
          "output_type": "stream",
          "name": "stdout",
          "text": [
            "Contents of the dataset folder:\n",
            "['paper', 'rock', 'rps-cv-images', 'README_rpc-cv-images.txt', 'scissors']\n"
          ]
        }
      ]
    },
    {
      "cell_type": "markdown",
      "source": [
        "checking the shape of the image"
      ],
      "metadata": {
        "id": "WYAbvav3TMt_"
      }
    },
    {
      "cell_type": "code",
      "source": [
        "subset = 5\n",
        "rock_folder = '/kaggle/input/rockpaperscissors/rock'\n",
        "paper_folder = '/kaggle/input/rockpaperscissors/paper'\n",
        "scissors_folder = '/kaggle/input/rockpaperscissors/scissors'\n",
        "\n",
        "rock_images = [rock for rock in os.listdir(rock_folder) if rock.endswith(('jpg', 'jpeg', 'png'))]\n",
        "\n",
        "for i, filename in enumerate(rock_images[:subset]):\n",
        "  file_path = os.path.join(rock_folder, filename)\n",
        "  img = cv2.imread(file_path)\n",
        "  if img is not None:\n",
        "    print(f\"Rock Img {i+1}: {filename}, Shape: {img.shape} (height, width, channels)\")\n",
        "\n",
        "paper_images = [paper for paper in os.listdir(paper_folder) if paper.endswith(('jpg', 'jpeg', 'png'))]\n",
        "\n",
        "for i, filename in enumerate(paper_images[:subset]):\n",
        "  file_path = os.path.join(paper_folder, filename)\n",
        "  img = cv2.imread(file_path)\n",
        "  if img is not None:\n",
        "    print(f\"Paper Img {i+1}: {filename}, Shape: {img.shape} (height, width, channels)\")\n",
        "\n",
        "scissor_images = [scissor for scissor in os.listdir(scissor_folder) if scissor.endswith(('jpg', 'jpeg', 'png'))]\n",
        "\n",
        "for i, filename in enumerate(scissor_images[:subset]):\n",
        "  file_path = os.path.join(scissor_folder, filename)\n",
        "  img = cv2.imread(file_path)\n",
        "  if img is not None:\n",
        "    print(f\"Scissor Img {i+1}: {filename}, Shape: {img.shape} (height, width, channels)\")"
      ],
      "metadata": {
        "colab": {
          "base_uri": "https://localhost:8080/"
        },
        "id": "M97W_2tyQ8W1",
        "outputId": "8c2b0a98-2264-42de-9797-44a831efedf0"
      },
      "execution_count": 42,
      "outputs": [
        {
          "output_type": "stream",
          "name": "stdout",
          "text": [
            "Rock Img 1: qUjyvBdP04lUmBkl.png, Shape: (200, 300, 3) (height, width, channels)\n",
            "Rock Img 2: 7YpH9C6XA1GIbSum.png, Shape: (200, 300, 3) (height, width, channels)\n",
            "Rock Img 3: ON7ALRXFwvKHbBPL.png, Shape: (200, 300, 3) (height, width, channels)\n",
            "Rock Img 4: 2UaJz6Z3xJv3WX9h.png, Shape: (200, 300, 3) (height, width, channels)\n",
            "Rock Img 5: HWvrWXLQywNe1aCF.png, Shape: (200, 300, 3) (height, width, channels)\n",
            "Paper Img 1: cQ0dBO3yHPohZ9U9.png, Shape: (200, 300, 3) (height, width, channels)\n",
            "Paper Img 2: jAh36hlZLpECSBHp.png, Shape: (200, 300, 3) (height, width, channels)\n",
            "Paper Img 3: QnjBVl6cFnyd2hVF.png, Shape: (200, 300, 3) (height, width, channels)\n",
            "Paper Img 4: dZh2VMRu9nRGHhYL.png, Shape: (200, 300, 3) (height, width, channels)\n",
            "Paper Img 5: SDQQfzHl47yNqA6K.png, Shape: (200, 300, 3) (height, width, channels)\n",
            "Scissor Img 1: TfQG2fJYyDv8Ic8P.png, Shape: (200, 300, 3) (height, width, channels)\n",
            "Scissor Img 2: EesxTpYzhZoMVlH8.png, Shape: (200, 300, 3) (height, width, channels)\n",
            "Scissor Img 3: 8Gew5erdZ7A4K3gI.png, Shape: (200, 300, 3) (height, width, channels)\n",
            "Scissor Img 4: RydyYWgvhLQPwEaw.png, Shape: (200, 300, 3) (height, width, channels)\n",
            "Scissor Img 5: 256MrhkDete6aQhP.png, Shape: (200, 300, 3) (height, width, channels)\n"
          ]
        }
      ]
    },
    {
      "cell_type": "markdown",
      "source": [
        "Organize dataset into train, validation, test folders"
      ],
      "metadata": {
        "id": "oe--grsoaMCn"
      }
    },
    {
      "cell_type": "code",
      "source": [
        "organized_dataset = '/kaggle/working/organized_dataset'\n",
        "\n",
        "#define the split ratio\n",
        "train_ratio = 0.7\n",
        "val_ratio = 0.2\n",
        "test_ratio = .1\n",
        "\n",
        "# Function to split and organize dataset\n",
        "def organize_data(src_folder, dest_folder, label):\n",
        "    # Get all files in the source folder\n",
        "    files = os.listdir(src_folder)\n",
        "\n",
        "    # Split data\n",
        "    train_files, test_files = train_test_split(files, test_size=(val_ratio + test_ratio), random_state=42)\n",
        "    val_files, test_files = train_test_split(test_files, test_size=test_ratio / (val_ratio + test_ratio), random_state=42)\n",
        "\n",
        "    # Define paths\n",
        "    for split, file_list in zip(['train', 'validation', 'test'], [train_files, val_files, test_files]):\n",
        "        split_path = os.path.join(dest_folder, split, label)\n",
        "        os.makedirs(split_path, exist_ok=True)\n",
        "\n",
        "        # Move files\n",
        "        for file in file_list:\n",
        "            src = os.path.join(src_folder, file)\n",
        "            dest = os.path.join(split_path, file)\n",
        "            shutil.copy(src, dest)\n",
        "\n",
        "# Organize each category\n",
        "organize_data(rock_folder, organized_dataset, 'rock')\n",
        "organize_data(paper_folder, organized_dataset, 'paper')\n",
        "organize_data(scissors_folder, organized_dataset, 'scissors')\n"
      ],
      "metadata": {
        "id": "xZvBO2t3aLw5"
      },
      "execution_count": 43,
      "outputs": []
    },
    {
      "cell_type": "code",
      "source": [],
      "metadata": {
        "id": "ScAudqZjbBU-"
      },
      "execution_count": null,
      "outputs": []
    }
  ]
}