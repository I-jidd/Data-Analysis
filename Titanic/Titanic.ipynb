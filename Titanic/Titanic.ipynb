{
 "cells": [
  {
   "cell_type": "markdown",
   "id": "e36d2ea2-711c-41c3-aba4-766f9157aa37",
   "metadata": {},
   "source": [
    "#### Our job as a data analyst is to find the following information:\n",
    "\n",
    "#### What is the shape of this array?\n",
    "#### What is the average age of the passengers?\n",
    "#### What is the passenger number of the oldest passenger? Who is the youngest?\n",
    "#### What is the percentage of folks that survived?\n",
    "#### And now the final question of all:\n",
    "\n",
    "#### What is the percentage of the folks that survived based on their passenger class?"
   ]
  },
  {
   "cell_type": "code",
   "execution_count": 1,
   "id": "ac65b186-4f37-41bd-a313-5c7139eb0a91",
   "metadata": {},
   "outputs": [],
   "source": [
    "import numpy as np"
   ]
  },
  {
   "cell_type": "code",
   "execution_count": 2,
   "id": "5652b86c-1991-4db3-bd7a-0d81f2527280",
   "metadata": {},
   "outputs": [],
   "source": [
    "passengers = np.array([\n",
    "   [1, 0, 3, 22],\n",
    "   [2, 1, 1, 38],\n",
    "   [3, 1, 3, 26],\n",
    "   [4, 1, 1, 35],\n",
    "   [5, 0, 3, 35],\n",
    "   [6, 0, 3, 18],\n",
    "   [7, 0, 1, 54],\n",
    "   [8, 0, 3, 2],\n",
    "   [9, 1, 3, 27],\n",
    "  [10, 1, 2, 14],\n",
    "  [11, 1, 3, 4],\n",
    "  [12, 1, 1, 58],\n",
    "  [13, 0, 3, 20],\n",
    "  [14, 0, 3, 39],\n",
    "  [15, 0, 3, 14],\n",
    "  [16, 1, 2, 55],\n",
    "  [17, 0, 3, 2],\n",
    "  [18, 1, 2, 12],\n",
    "  [19, 0, 3, 31],\n",
    "  [20, 1, 3, 8],\n",
    "  [21, 0, 2, 35],\n",
    "  [22, 1, 2, 34],\n",
    "  [23, 1, 3, 15],\n",
    "  [24, 1, 1, 28],\n",
    "  [25, 0, 3, 8],\n",
    "  [26, 1, 3, 38],\n",
    "  [27, 0, 3, 2],\n",
    "  [28, 0, 1, 1],\n",
    "  [29, 1, 3, 5],\n",
    "  [30, 0, 3, 18],\n",
    "  [31, 0, 1, 40],\n",
    "  [32, 1, 1, 70],\n",
    "  [33, 1, 3, 33],\n",
    "  [34, 0, 2, 66],\n",
    "  [35, 0, 1, 28],\n",
    "  [36, 0, 1, 42],\n",
    "  [37, 1, 3, 5],\n",
    "  [38, 0, 3, 18],\n",
    "  [39, 0, 3, 18],\n",
    "  [40, 1, 3, 14],\n",
    "  [41, 0, 3, 40],\n",
    "  [42, 0, 2, 27],\n",
    "  [43, 0, 3, 29],\n",
    "  [44, 1, 2, 0],\n",
    "  [45, 1, 3, 19],\n",
    "  [46, 0, 3, 33],\n",
    "  [47, 0, 3, 14],\n",
    "  [48, 1, 3, 22],\n",
    "  [49, 0, 3, 41],\n",
    "  [50, 0, 3, 18]\n",
    "])"
   ]
  },
  {
   "cell_type": "code",
   "execution_count": 3,
   "id": "fd36300b-fbce-4940-b790-63539af0cf44",
   "metadata": {},
   "outputs": [
    {
     "data": {
      "text/plain": [
       "(50, 4)"
      ]
     },
     "execution_count": 3,
     "metadata": {},
     "output_type": "execute_result"
    }
   ],
   "source": [
    "#shape of the array\n",
    "passengers.shape"
   ]
  },
  {
   "cell_type": "code",
   "execution_count": 4,
   "id": "86c1511e-69ab-4e6d-a200-a0d181ba6a92",
   "metadata": {},
   "outputs": [
    {
     "name": "stdout",
     "output_type": "stream",
     "text": [
      "25.5\n"
     ]
    }
   ],
   "source": [
    "#average age of passengers\n",
    "age_ave = np.average(passengers, axis=0)[3]\n",
    "print(age_ave)"
   ]
  },
  {
   "cell_type": "code",
   "execution_count": 5,
   "id": "31ce3178-01d8-4a7d-bdf2-edd268cb2114",
   "metadata": {},
   "outputs": [
    {
     "name": "stdout",
     "output_type": "stream",
     "text": [
      "44\n",
      "32\n"
     ]
    }
   ],
   "source": [
    "#What is the passenger number of the oldest passenger? Who is the youngest?\n",
    "passenger_number = passengers[:, 0] #extract passenger number column\n",
    "ages =  passengers[:, 3]#extract passenger's age\n",
    "\n",
    "oldest = np.argmax(ages) #\n",
    "youngest = np.argmin(ages)\n",
    "\n",
    "youngest_pass_num = passenger_number[youngest]\n",
    "oldest_pass_num = passenger_number[oldest]\n",
    "print(youngest_pass_num)\n",
    "print(oldest_pass_num)"
   ]
  },
  {
   "cell_type": "code",
   "execution_count": 6,
   "id": "ac54dc29-7414-49a4-9f2b-e7ced2c62282",
   "metadata": {},
   "outputs": [
    {
     "name": "stdout",
     "output_type": "stream",
     "text": [
      "44.0\n"
     ]
    }
   ],
   "source": [
    "#What is the percentage of folks that survived?\n",
    "total_survived = np.sum(passengers, axis=0)[1]\n",
    "survival_rate = (total_survived / len(passengers)) * 100\n",
    "print(survival_rate)"
   ]
  },
  {
   "cell_type": "code",
   "execution_count": 7,
   "id": "f083eeb3-4093-4d0a-a31a-9e3e77694db5",
   "metadata": {},
   "outputs": [],
   "source": [
    "# What is the percentage of the folks that survived based on their passenger class?\n",
    "\n",
    "#extract the column needed\n",
    "survived = passengers[:, 1]\n",
    "classes = passengers[:, 2]"
   ]
  },
  {
   "cell_type": "code",
   "execution_count": 8,
   "id": "4722d1ae-8a6e-4324-b114-bd09962f3bd3",
   "metadata": {},
   "outputs": [],
   "source": [
    "#get the unique classes\n",
    "unique_classes = np.unique(classes)"
   ]
  },
  {
   "cell_type": "code",
   "execution_count": null,
   "id": "07b89dff-ebad-4715-bbc3-d20933b4ae4b",
   "metadata": {},
   "outputs": [],
   "source": [
    "#use loop to iterate each class\n",
    "for cls in unique_class:\n",
    "    #get the total passenger each class\n",
    "    total_passenger_in_class = np.sum(classes == cls)\n",
    "    #get the survived passengers in each class\n",
    "    total_survived_passenger_in_class = np.sum((classes == cls) & (survived == 1))\n",
    "    #survival rate\n",
    "    survival_rate = (total_survived_passenger_in_class/total_passenger_in_class) * 100\n",
    "    print(f\"Class {int(cls)}: {survival_percentage:.2f}% survival\")"
   ]
  }
 ],
 "metadata": {
  "kernelspec": {
   "display_name": "Python 3 (ipykernel)",
   "language": "python",
   "name": "python3"
  },
  "language_info": {
   "codemirror_mode": {
    "name": "ipython",
    "version": 3
   },
   "file_extension": ".py",
   "mimetype": "text/x-python",
   "name": "python",
   "nbconvert_exporter": "python",
   "pygments_lexer": "ipython3",
   "version": "3.12.9"
  }
 },
 "nbformat": 4,
 "nbformat_minor": 5
}
